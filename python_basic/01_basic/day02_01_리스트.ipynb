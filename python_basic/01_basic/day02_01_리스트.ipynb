{
 "cells": [
  {
   "cell_type": "raw",
   "id": "d5cfdd66-f1d7-4ae2-9e2c-a449ee1ccec1",
   "metadata": {},
   "source": [
    "리스트 , 튜플은 순서가 있다 - 인덱스 있다 - 인덱스로 데이터 구분 가능\n",
    "딕셔너리 , 셋(set?)은 순서가 없다 - 인덱스가 없다 - 인덱스 대신 key로 데이터 구분 - 때문에 key중복 안됨\n",
    "\n",
    "리스트는 []대괄호\n",
    "튜플은 ()소괄호\n",
    "딕셔너리는 {}중괄호 key,value로 구성\n",
    "셋은 {}중괄호 key, key로 구성"
   ]
  },
  {
   "cell_type": "code",
   "execution_count": 2,
   "id": "fca14867-a083-4e43-a37b-d620b832c03c",
   "metadata": {},
   "outputs": [],
   "source": [
    "odd = [1, 3, 5, 7, 9] #리스트"
   ]
  },
  {
   "cell_type": "code",
   "execution_count": 3,
   "id": "f06eceab-20c3-4bb9-b5f8-b2f21d6b25ab",
   "metadata": {},
   "outputs": [
    {
     "data": {
      "text/plain": [
       "[1, 3, 5, 7, 9]"
      ]
     },
     "execution_count": 3,
     "metadata": {},
     "output_type": "execute_result"
    }
   ],
   "source": [
    "odd"
   ]
  },
  {
   "cell_type": "code",
   "execution_count": 4,
   "id": "e7aef736-f2c0-42b0-8737-51fcf0cac15a",
   "metadata": {},
   "outputs": [
    {
     "data": {
      "text/plain": [
       "1"
      ]
     },
     "execution_count": 4,
     "metadata": {},
     "output_type": "execute_result"
    }
   ],
   "source": [
    "odd[0]"
   ]
  },
  {
   "cell_type": "code",
   "execution_count": 5,
   "id": "83d7bf57-ad8e-45a8-8088-d360bda22be4",
   "metadata": {},
   "outputs": [
    {
     "name": "stdout",
     "output_type": "stream",
     "text": [
      "1\n",
      "3\n",
      "5\n",
      "7\n",
      "9\n"
     ]
    }
   ],
   "source": [
    "for i in odd:\n",
    "    print(i)"
   ]
  },
  {
   "cell_type": "code",
   "execution_count": 6,
   "id": "df8928c5-8ef2-43df-ae05-d73fedca4a76",
   "metadata": {},
   "outputs": [],
   "source": [
    "a = [1,2,3,['a', 'b', 'c']]"
   ]
  },
  {
   "cell_type": "code",
   "execution_count": 7,
   "id": "83096894-2df2-4074-ab20-919e40a52785",
   "metadata": {},
   "outputs": [
    {
     "data": {
      "text/plain": [
       "[1, 2, 3, ['a', 'b', 'c']]"
      ]
     },
     "execution_count": 7,
     "metadata": {},
     "output_type": "execute_result"
    }
   ],
   "source": [
    "a"
   ]
  },
  {
   "cell_type": "code",
   "execution_count": 8,
   "id": "ad3938ac-cda5-45b3-bb99-fe15e1dd3e89",
   "metadata": {},
   "outputs": [
    {
     "data": {
      "text/plain": [
       "'b'"
      ]
     },
     "execution_count": 8,
     "metadata": {},
     "output_type": "execute_result"
    }
   ],
   "source": [
    "a[3][1]"
   ]
  },
  {
   "cell_type": "code",
   "execution_count": 9,
   "id": "73042e92-288a-43d7-9cb0-d8d4a6673565",
   "metadata": {},
   "outputs": [
    {
     "data": {
      "text/plain": [
       "['a', 'b', 'c']"
      ]
     },
     "execution_count": 9,
     "metadata": {},
     "output_type": "execute_result"
    }
   ],
   "source": [
    "a[3]"
   ]
  },
  {
   "cell_type": "code",
   "execution_count": 10,
   "id": "b0cb5f28-dbe7-4023-93c3-2b94995a5b3d",
   "metadata": {},
   "outputs": [
    {
     "data": {
      "text/plain": [
       "[2, 3]"
      ]
     },
     "execution_count": 10,
     "metadata": {},
     "output_type": "execute_result"
    }
   ],
   "source": [
    "a[1:3]"
   ]
  },
  {
   "cell_type": "code",
   "execution_count": 12,
   "id": "32228ae3-f87e-41fa-a3b6-17f92ac7a69a",
   "metadata": {},
   "outputs": [
    {
     "data": {
      "text/plain": [
       "[1, 2, 3, ['a', 'b', 'c'], 1, 2, 3, ['a', 'b', 'c'], 1, 2, 3, ['a', 'b', 'c']]"
      ]
     },
     "execution_count": 12,
     "metadata": {},
     "output_type": "execute_result"
    }
   ],
   "source": [
    "a*3 #몇번 반복"
   ]
  },
  {
   "cell_type": "code",
   "execution_count": 13,
   "id": "bb5768e5-ed7d-4e64-bf41-f2cdf68e5213",
   "metadata": {},
   "outputs": [
    {
     "data": {
      "text/plain": [
       "4"
      ]
     },
     "execution_count": 13,
     "metadata": {},
     "output_type": "execute_result"
    }
   ],
   "source": [
    "len(a) #길이를 세는 함수이지만 안쪽 함수는 세지 못한다."
   ]
  },
  {
   "cell_type": "code",
   "execution_count": 14,
   "id": "4ecba390-97eb-46c5-9fea-a83b73396bbf",
   "metadata": {},
   "outputs": [],
   "source": [
    "a[3] ='abc'#인덱스를 사용해서 조절가능한 예"
   ]
  },
  {
   "cell_type": "code",
   "execution_count": 15,
   "id": "8e05cd75-1f99-4583-b905-8fabdde2699d",
   "metadata": {},
   "outputs": [
    {
     "data": {
      "text/plain": [
       "[1, 2, 3, 'abc']"
      ]
     },
     "execution_count": 15,
     "metadata": {},
     "output_type": "execute_result"
    }
   ],
   "source": [
    "a"
   ]
  },
  {
   "cell_type": "code",
   "execution_count": 16,
   "id": "f9114a4f-d69f-461e-b083-b8d62ae6c1d3",
   "metadata": {},
   "outputs": [],
   "source": [
    "del a[1] #삭제!!!!"
   ]
  },
  {
   "cell_type": "code",
   "execution_count": 17,
   "id": "cd988bcb-92c0-4a21-82a4-d61dc7d5b4bd",
   "metadata": {},
   "outputs": [
    {
     "data": {
      "text/plain": [
       "[1, 3, 'abc']"
      ]
     },
     "execution_count": 17,
     "metadata": {},
     "output_type": "execute_result"
    }
   ],
   "source": [
    "a"
   ]
  },
  {
   "cell_type": "code",
   "execution_count": 18,
   "id": "8547e548-e14f-4d49-a562-f90f24d36549",
   "metadata": {},
   "outputs": [],
   "source": [
    "del a"
   ]
  },
  {
   "cell_type": "code",
   "execution_count": 19,
   "id": "929c3224-9998-4377-a5ee-1fa75e7b6c28",
   "metadata": {},
   "outputs": [
    {
     "ename": "NameError",
     "evalue": "name 'a' is not defined",
     "output_type": "error",
     "traceback": [
      "\u001b[1;31m---------------------------------------------------------------------------\u001b[0m",
      "\u001b[1;31mNameError\u001b[0m                                 Traceback (most recent call last)",
      "Input \u001b[1;32mIn [19]\u001b[0m, in \u001b[0;36m<cell line: 1>\u001b[1;34m()\u001b[0m\n\u001b[1;32m----> 1\u001b[0m \u001b[43ma\u001b[49m\n",
      "\u001b[1;31mNameError\u001b[0m: name 'a' is not defined"
     ]
    }
   ],
   "source": [
    "a"
   ]
  },
  {
   "cell_type": "code",
   "execution_count": 20,
   "id": "871b435e-5055-4d03-bbe1-40e606537a56",
   "metadata": {},
   "outputs": [
    {
     "data": {
      "text/plain": [
       "[1, 2, 3, 4]"
      ]
     },
     "execution_count": 20,
     "metadata": {},
     "output_type": "execute_result"
    }
   ],
   "source": [
    "a = [1,2,3]\n",
    "a.append(4)#추가\n",
    "a"
   ]
  },
  {
   "cell_type": "code",
   "execution_count": 21,
   "id": "fd491490-608e-45c8-b095-75ad55341bca",
   "metadata": {},
   "outputs": [],
   "source": [
    "a.append(5)"
   ]
  },
  {
   "cell_type": "code",
   "execution_count": 22,
   "id": "8542f78b-0636-4ba6-a898-b6069f704ffb",
   "metadata": {},
   "outputs": [
    {
     "data": {
      "text/plain": [
       "[1, 2, 3, 4, 5]"
      ]
     },
     "execution_count": 22,
     "metadata": {},
     "output_type": "execute_result"
    }
   ],
   "source": [
    "a"
   ]
  },
  {
   "cell_type": "code",
   "execution_count": 23,
   "id": "b2692919-f024-4026-892b-85a097eeecb7",
   "metadata": {},
   "outputs": [],
   "source": [
    "a=[1,4,3,2]"
   ]
  },
  {
   "cell_type": "code",
   "execution_count": 24,
   "id": "bdef0c8f-d6f9-4fae-ad40-8598da46be4b",
   "metadata": {},
   "outputs": [],
   "source": [
    "a.sort() #정렬"
   ]
  },
  {
   "cell_type": "code",
   "execution_count": 25,
   "id": "8445c21f-ba7f-435e-a7f5-5777f7de861a",
   "metadata": {},
   "outputs": [
    {
     "data": {
      "text/plain": [
       "[1, 2, 3, 4]"
      ]
     },
     "execution_count": 25,
     "metadata": {},
     "output_type": "execute_result"
    }
   ],
   "source": [
    "a"
   ]
  },
  {
   "cell_type": "code",
   "execution_count": 26,
   "id": "13ca1a3e-c03a-4015-980f-e92e7efb2e9e",
   "metadata": {},
   "outputs": [],
   "source": [
    "a.sort(reverse=True) #반대로 정렬"
   ]
  },
  {
   "cell_type": "code",
   "execution_count": 27,
   "id": "4dbd2546-8dd3-4b1d-b715-1e1bf70d7aeb",
   "metadata": {},
   "outputs": [
    {
     "data": {
      "text/plain": [
       "[4, 3, 2, 1]"
      ]
     },
     "execution_count": 27,
     "metadata": {},
     "output_type": "execute_result"
    }
   ],
   "source": [
    "a"
   ]
  },
  {
   "cell_type": "code",
   "execution_count": 38,
   "id": "f02cede9-26fc-43bb-897b-d018d633f24e",
   "metadata": {},
   "outputs": [],
   "source": [
    "a = [1,4,3,2]\n",
    "a.reverse()"
   ]
  },
  {
   "cell_type": "code",
   "execution_count": 39,
   "id": "fdfc9a04-171f-496f-92bb-e3154764ec3f",
   "metadata": {},
   "outputs": [
    {
     "data": {
      "text/plain": [
       "[2, 3, 4, 1]"
      ]
     },
     "execution_count": 39,
     "metadata": {},
     "output_type": "execute_result"
    }
   ],
   "source": [
    "a"
   ]
  },
  {
   "cell_type": "code",
   "execution_count": 30,
   "id": "82a1a28f-656b-4212-a07a-f44fcef60c5e",
   "metadata": {},
   "outputs": [],
   "source": [
    "a.insert(0,0)"
   ]
  },
  {
   "cell_type": "code",
   "execution_count": 31,
   "id": "667cc4c6-d319-4974-8640-46f79df60446",
   "metadata": {},
   "outputs": [
    {
     "data": {
      "text/plain": [
       "[0, 2, 3, 4, 1]"
      ]
     },
     "execution_count": 31,
     "metadata": {},
     "output_type": "execute_result"
    }
   ],
   "source": [
    "a"
   ]
  },
  {
   "cell_type": "code",
   "execution_count": 40,
   "id": "4af5fbe2-c5dd-4aa9-8fdb-ed255a60ef20",
   "metadata": {},
   "outputs": [],
   "source": [
    "#del a[2]\n",
    "a.remove(1)#입력한 숫자 지우기\n",
    "# ctrl + shift + - 누르면 줄이 분리됨"
   ]
  },
  {
   "cell_type": "code",
   "execution_count": 36,
   "id": "5ad1977a-b02b-41c4-a084-952c42f38438",
   "metadata": {},
   "outputs": [
    {
     "data": {
      "text/plain": [
       "1"
      ]
     },
     "execution_count": 36,
     "metadata": {},
     "output_type": "execute_result"
    }
   ],
   "source": [
    "a.pop()#맨 뒤에꺼 빼고 맨뒤에꺼 지우기"
   ]
  },
  {
   "cell_type": "code",
   "execution_count": 41,
   "id": "99caa185-7c14-4e85-af29-5c571690a293",
   "metadata": {},
   "outputs": [
    {
     "data": {
      "text/plain": [
       "[2, 3, 4]"
      ]
     },
     "execution_count": 41,
     "metadata": {},
     "output_type": "execute_result"
    }
   ],
   "source": [
    "a"
   ]
  },
  {
   "cell_type": "code",
   "execution_count": 42,
   "id": "87fb4ba5-fcf9-4b5b-8569-e0bede4645d7",
   "metadata": {},
   "outputs": [
    {
     "data": {
      "text/plain": [
       "[1, 2, 3, 1]"
      ]
     },
     "execution_count": 42,
     "metadata": {},
     "output_type": "execute_result"
    }
   ],
   "source": [
    "a =[1, 2, 3, 1]\n",
    "a"
   ]
  },
  {
   "cell_type": "code",
   "execution_count": 43,
   "id": "91bc32b8-0be3-4507-a274-e8476696462c",
   "metadata": {},
   "outputs": [
    {
     "data": {
      "text/plain": [
       "2"
      ]
     },
     "execution_count": 43,
     "metadata": {},
     "output_type": "execute_result"
    }
   ],
   "source": [
    "a.count(1)#입력한 숫자 갯수 세기"
   ]
  },
  {
   "cell_type": "code",
   "execution_count": 45,
   "id": "3a086dac-d0b7-46ff-9828-830736a1e9d7",
   "metadata": {},
   "outputs": [],
   "source": [
    "a = [1, 2, 3]\n",
    "b = [4, 5]\n",
    "a.extend(b)#a에 b합치기"
   ]
  },
  {
   "cell_type": "code",
   "execution_count": 46,
   "id": "9e8a03e8-aa1f-433c-a42a-4acde5409c55",
   "metadata": {},
   "outputs": [
    {
     "data": {
      "text/plain": [
       "[1, 2, 3, 4, 5]"
      ]
     },
     "execution_count": 46,
     "metadata": {},
     "output_type": "execute_result"
    }
   ],
   "source": [
    "a"
   ]
  },
  {
   "cell_type": "code",
   "execution_count": 47,
   "id": "9914fe24-a1e3-4c3a-94e1-564bd18fde24",
   "metadata": {},
   "outputs": [],
   "source": [
    "a.append(b)"
   ]
  },
  {
   "cell_type": "code",
   "execution_count": 48,
   "id": "97bbec14-7a5c-43d3-8e28-7da2a767a136",
   "metadata": {},
   "outputs": [
    {
     "data": {
      "text/plain": [
       "[1, 2, 3, 4, 5, [4, 5]]"
      ]
     },
     "execution_count": 48,
     "metadata": {},
     "output_type": "execute_result"
    }
   ],
   "source": [
    "a"
   ]
  },
  {
   "cell_type": "raw",
   "id": "37a4953d-a551-4ea0-842a-7daebace1065",
   "metadata": {},
   "source": [
    "타자 게임\n",
    "데이터 저장 : word = []\n",
    "word리스트에서 문제를 추출하여 제출하면 맞추는 게임\n",
    "-한번 출제된 문제는 맞출 때까지 반복\n",
    "-전체 5문제를 출제 "
   ]
  },
  {
   "cell_type": "code",
   "execution_count": 49,
   "id": "dcd9fce0-56a7-426f-a322-643baa7ad3d8",
   "metadata": {},
   "outputs": [],
   "source": [
    "import random #랜덤이라는 라이브러리를 불러 쓸거다"
   ]
  },
  {
   "cell_type": "code",
   "execution_count": 91,
   "id": "b05a582c-088e-4877-a756-cea5a6abb658",
   "metadata": {},
   "outputs": [],
   "source": [
    "word = ['cat', 'dog', '강아지', '고양이']\n",
    "#random.choice(word)"
   ]
  },
  {
   "cell_type": "code",
   "execution_count": null,
   "id": "d7ee56b9-b9f3-4fbd-b4c3-7c1953f37413",
   "metadata": {
    "tags": []
   },
   "outputs": [
    {
     "name": "stdout",
     "output_type": "stream",
     "text": [
      "1번\n",
      "cat\n"
     ]
    }
   ],
   "source": [
    "n = 1\n",
    "quest = random.choice(word)\n",
    "\n",
    "while n<=5:\n",
    "    print(f'{n}번')\n",
    "    print(quest)\n",
    "    result = input('>>>')\n",
    "    if quest == result :\n",
    "        print('통과')\n",
    "        n+=1\n",
    "        quest = random.choice(word)\n",
    "    else :\n",
    "        print('오타! 다시 도전!')\n",
    "    print('5문제 완료!!')\n",
    "    "
   ]
  },
  {
   "cell_type": "code",
   "execution_count": 106,
   "id": "43f0344b-4e43-439f-ad3d-8dea021cdd4d",
   "metadata": {},
   "outputs": [],
   "source": [
    "#저장\n",
    "import json, pickle"
   ]
  },
  {
   "cell_type": "code",
   "execution_count": 107,
   "id": "203b5d6f-c84d-461d-aaa3-b6f250ab8312",
   "metadata": {},
   "outputs": [],
   "source": [
    "f = open('word.json', 'w')#text기반은 b를 안붙어도 된다\n",
    "json.dump(word, f)\n",
    "f.close()"
   ]
  },
  {
   "cell_type": "code",
   "execution_count": 108,
   "id": "e287d3da-6278-47f1-b8f2-3cca9e431542",
   "metadata": {},
   "outputs": [],
   "source": [
    "f = open('word.json', 'r')\n",
    "word_1 = json.load(f)\n",
    "f.close()"
   ]
  },
  {
   "cell_type": "code",
   "execution_count": 103,
   "id": "131c7fa1-f4e8-4d67-8ba1-c5b2b400e6e4",
   "metadata": {},
   "outputs": [
    {
     "data": {
      "text/plain": [
       "['cat', 'dog', '강아지', '고양이']"
      ]
     },
     "execution_count": 103,
     "metadata": {},
     "output_type": "execute_result"
    }
   ],
   "source": [
    "word_1"
   ]
  },
  {
   "cell_type": "code",
   "execution_count": 104,
   "id": "38dadb37-2f60-4a80-85b6-fbea1837e829",
   "metadata": {},
   "outputs": [],
   "source": [
    "f = open('word.pickle', 'wb')#byte기반은 b를 붙여야한다\n",
    "pickle.dump(word,f)\n",
    "f.close()"
   ]
  },
  {
   "cell_type": "code",
   "execution_count": 105,
   "id": "5ded0e11-be13-4725-b24b-6a3f1abfbba8",
   "metadata": {},
   "outputs": [],
   "source": [
    "f = open('word.pickle', 'rb')\n",
    "word_2 = pickle.load(f)\n",
    "f.close()"
   ]
  },
  {
   "cell_type": "code",
   "execution_count": 110,
   "id": "2f9385e2-b21c-4bbc-bc7c-6831916241a2",
   "metadata": {},
   "outputs": [],
   "source": [
    "import time"
   ]
  },
  {
   "cell_type": "code",
   "execution_count": null,
   "id": "7cf55040-1dc5-4f90-b0ee-0ba3fbd2dd63",
   "metadata": {},
   "outputs": [],
   "source": [
    "time.time()"
   ]
  },
  {
   "cell_type": "code",
   "execution_count": 114,
   "id": "58b6c4bd-4799-49b8-9796-44ade4d26446",
   "metadata": {},
   "outputs": [
    {
     "data": {
      "text/plain": [
       "['aaa', 'bbb']"
      ]
     },
     "execution_count": 114,
     "metadata": {},
     "output_type": "execute_result"
    }
   ],
   "source": [
    "rank = {'aaa':11.477029085159302,'bbb' : 7.897187948226929}\n",
    "sorted(rank)"
   ]
  },
  {
   "cell_type": "code",
   "execution_count": 115,
   "id": "f62bd688-44fb-446a-811d-87b7bb68a69c",
   "metadata": {},
   "outputs": [
    {
     "data": {
      "text/plain": [
       "dict_items([('aaa', 11.477029085159302), ('bbb', 7.897187948226929)])"
      ]
     },
     "execution_count": 115,
     "metadata": {},
     "output_type": "execute_result"
    }
   ],
   "source": [
    "rank.items()"
   ]
  },
  {
   "cell_type": "code",
   "execution_count": 116,
   "id": "ce40878c-225d-40c7-a460-ef487f8b88ba",
   "metadata": {},
   "outputs": [
    {
     "data": {
      "text/plain": [
       "[('bbb', 7.897187948226929), ('aaa', 11.477029085159302)]"
      ]
     },
     "execution_count": 116,
     "metadata": {},
     "output_type": "execute_result"
    }
   ],
   "source": [
    "sorted(rank.items(),key=lambda x: x[1])  #key value 둘다 뽑는 items"
   ]
  },
  {
   "cell_type": "code",
   "execution_count": 138,
   "id": "7526e83e-f76a-46e8-a6c0-ce0a14003b25",
   "metadata": {},
   "outputs": [
    {
     "name": "stdin",
     "output_type": "stream",
     "text": [
      "\n",
      "----------------------------------------------------\n",
      "1.게임  2.문제추가  3.문제저장  4.등수리스트  5.종료\n",
      "----------------------------------------------------\n",
      ">>>  5\n"
     ]
    },
    {
     "name": "stdout",
     "output_type": "stream",
     "text": [
      "프로그램 종료!\n"
     ]
    }
   ],
   "source": [
    "import json\n",
    "word_1  = ['cat', 'dog', '강아지', '고양이']\n",
    "\n",
    "rank = {}\n",
    "\n",
    "f = open('word.json', 'r')\n",
    "word_1 = json.load(f)\n",
    "f.close()\n",
    "\n",
    "menu_display = '''\n",
    "----------------------------------------------------\n",
    "1.게임  2.문제추가  3.문제저장  4.등수리스트  5.종료\n",
    "----------------------------------------------------\n",
    ">>> '''\n",
    "\n",
    "while True:\n",
    "    menu = input(menu_display)\n",
    "    \n",
    "    if menu == '1':\n",
    "        print('게임시작!')\n",
    "        start = time.time()\n",
    "        n = 1\n",
    "        quest = random.choice(word)\n",
    "\n",
    "        while n<=5:\n",
    "            print(f'{n}번')\n",
    "            print(quest)\n",
    "            result = input('>>>')\n",
    "            if quest == result :\n",
    "                print('통과')\n",
    "                n+=1\n",
    "                quest = random.choice(word)\n",
    "            else :\n",
    "                print('오타! 다시 도전!')\n",
    "        print('5문제 완료!!')\n",
    "        end = time.time()\n",
    "        print(f'걸린 시간 : {end - start : .0f}초')#소숫값없애기\n",
    "        name = input('이름을 입력하세요 >>>')\n",
    "        rank[name] = end-start\n",
    "        print(rank)\n",
    "    \n",
    "    elif menu == '2':\n",
    "        print('문제추가작업')\n",
    "        while True : \n",
    "              data = input('(종료:enter) >>>')\n",
    "              if data == '':\n",
    "                  break\n",
    "              word.append(data)\n",
    "              print(word)\n",
    "              \n",
    "    elif menu == '3':\n",
    "        print('문제저장작업')\n",
    "        f = open('word.json', 'w')#text기반은 b를 안붙어도 된다\n",
    "        json.dump(word, f)\n",
    "        f.close()\n",
    "        \n",
    "    elif menu=='4':\n",
    "        print('등수리스트')\n",
    "        for index, k,v in enumerate (sorted(rank.item(), key=lambda x:x[1])):\n",
    "            print(f'{index+1}등 {k} 시간 :{v:.0f}')\n",
    "            \n",
    "            \n",
    "    elif menu=='5':\n",
    "        print('프로그램 종료!')\n",
    "        f = open('word.json', 'w')#text기반은 b를 안붙어도 된다\n",
    "        json.dump(word, f)\n",
    "        f.close()\n",
    "        break\n",
    "        \n",
    "    else:\n",
    "        print('메뉴를 잘못 선택하셨습니다!')\n",
    "       "
   ]
  },
  {
   "cell_type": "raw",
   "id": "e75a717e-d966-421a-8556-1309ec90cfa3",
   "metadata": {},
   "source": [
    "#커피자판기\n",
    "1.커피자판기 2.메뉴추가 3.메뉴삭제 4.메뉴목록 5.종료\n",
    "-프로그램이 시작될 때 필요한 정보를 읽어서 시작합니다.\n",
    "-커피자판기 무한반복하면서 돈을 입력받고, 메뉴를 선택해서 처리\n",
    "-메뉴추가 자판기에서 판매하는 메뉴를 추가하는 기능(메뉴명, 가격)\n",
    "-메뉴삭제는 전체 목록을 보여주고 삭제하고자하는 항목을 선택하도록 해서 삭제 처리\n",
    "-종료는 저장할 정보가 있으며 저장하고 종료합니다"
   ]
  },
  {
   "cell_type": "code",
   "execution_count": null,
   "id": "d8142899-2dc5-4fd8-9341-62ed0b04dea0",
   "metadata": {},
   "outputs": [
    {
     "name": "stdin",
     "output_type": "stream",
     "text": [
      "\n",
      "---------------------------------------------------\n",
      "1.커피자판기 2.메뉴추가 3.메뉴삭제 4.메뉴목록 5.종료\n",
      "---------------------------------------------------\n",
      ">>> 1\n"
     ]
    },
    {
     "name": "stdout",
     "output_type": "stream",
     "text": [
      "아이스아메리카노:2,000원 라떼:3,000원 코코아:1,500원 \n"
     ]
    },
    {
     "name": "stdin",
     "output_type": "stream",
     "text": [
      "메뉴선택(종료:enter) >>> 라떼\n",
      "금액 투입 >>> 3500\n"
     ]
    },
    {
     "name": "stdout",
     "output_type": "stream",
     "text": [
      "라떼서비스 합니다.거스름돈은 500\n",
      "아이스아메리카노:2,000원 라떼:3,000원 코코아:1,500원 \n"
     ]
    }
   ],
   "source": [
    "item = {'아이스아메리카노':2000, \n",
    "        '라떼' :3000,\n",
    "        '코코아' : 1500}\n",
    "\n",
    "menu_display='''\n",
    "---------------------------------------------------\n",
    "1.커피자판기 2.메뉴추가 3.메뉴삭제 4.메뉴목록 5.종료\n",
    "---------------------------------------------------\n",
    ">>>'''\n",
    "\n",
    "while True:\n",
    "    menu = input(menu_display)\n",
    "    \n",
    "    if menu == '1':\n",
    "        choice = '선택한 메뉴'\n",
    "        while choice:\n",
    "            for k,v in item.items():\n",
    "                print(f'{k}:{v:,}원', end=' ')\n",
    "            print()\n",
    "            choice = input('메뉴선택(종료:enter) >>>')\n",
    "            money = int(input('금액 투입 >>>'))\n",
    "            if choice in item.keys():\n",
    "                if money >= item[choice]:\n",
    "                    money-= item[choice]\n",
    "                    print(f'{choice}서비스 합니다.거스름돈은 {money}')\n",
    "                else:\n",
    "                    print('해당 메뉴가 없습니다.')\n",
    "            \n",
    "    elif menu=='2' :\n",
    "            menu_name = input('메뉴명 >>>')\n",
    "            \n",
    "            menu_price = ''\n",
    "            while not menu_price.isdigit():  \n",
    "                  menu_price = input('메뉴 가격 >>>')  \n",
    "            menu_print=int(menu_price)\n",
    "            \n",
    "            if menu_name in item.keys():\n",
    "                print(f'{menu_name} 메뉴가 있습니다. 수정합니다.')\n",
    "            else:\n",
    "                print(f'{menu_name} 메뉴를 추가합니다')\n",
    "                \n",
    "            item[menu_name] = menu_price\n",
    "            print(item)\n",
    "            \n",
    "    elif menu == '3' :\n",
    "        menu_name = input('삭제하려는 메뉴명 >>>')\n",
    "        if menu_name in item.keys():\n",
    "            print(f'{item.pop(menu_name)}메뉴를 삭제합니다')\n",
    "            del item[menu_name]\n",
    "        else:\n",
    "            print(f'{menu_name}메뉴가 없습니다.')\n",
    "        print(item)\n",
    "        \n",
    "    elif menu == '4' :\n",
    "        menu_1 = input('1.메뉴이름순 2.메뉴가격순 >>>')\n",
    "        if menu_1 == '1':\n",
    "            for k,v in sorted(item.items(), key=lambda x:x[0]):\n",
    "                print(f'{k:>10} : {v:10,}원')\n",
    "        elif menu_1 == '2':\n",
    "            for k,v in sorted(item.items(), key=lambda x:x[1]):\n",
    "                print(f'{k:25} : {v:10,}원')\n",
    "                \n",
    "    elif menu == '5' :\n",
    "        print('프로그램 종료!')\n",
    "        break\n",
    "        \n",
    "    else :\n",
    "        print('잘못된 선택입니다.')"
   ]
  },
  {
   "cell_type": "code",
   "execution_count": null,
   "id": "4917bab6-65b1-4e7a-9573-19a26142a32f",
   "metadata": {},
   "outputs": [],
   "source": []
  }
 ],
 "metadata": {
  "kernelspec": {
   "display_name": "Python 3 (ipykernel)",
   "language": "python",
   "name": "python3"
  },
  "language_info": {
   "codemirror_mode": {
    "name": "ipython",
    "version": 3
   },
   "file_extension": ".py",
   "mimetype": "text/x-python",
   "name": "python",
   "nbconvert_exporter": "python",
   "pygments_lexer": "ipython3",
   "version": "3.9.12"
  }
 },
 "nbformat": 4,
 "nbformat_minor": 5
}
