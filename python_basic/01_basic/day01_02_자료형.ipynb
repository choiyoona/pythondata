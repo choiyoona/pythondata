{
 "cells": [
  {
   "cell_type": "raw",
   "id": "22942075-b45d-44da-989e-edc420de9bfe",
   "metadata": {},
   "source": [
    "숫자형"
   ]
  },
  {
   "cell_type": "markdown",
   "id": "010e2a5f-e87b-484d-9a4e-a0934e9a8ebd",
   "metadata": {},
   "source": [
    "# 숫자형"
   ]
  },
  {
   "cell_type": "code",
   "execution_count": 1,
   "id": "324b952a-103b-436b-ba2a-0b65007ae5f3",
   "metadata": {},
   "outputs": [],
   "source": [
    "a = 123"
   ]
  },
  {
   "cell_type": "code",
   "execution_count": 2,
   "id": "c163e0db-9cbf-4539-b185-4d7a1e00959d",
   "metadata": {},
   "outputs": [
    {
     "name": "stdout",
     "output_type": "stream",
     "text": [
      "123\n"
     ]
    }
   ],
   "source": [
    "print(a)"
   ]
  },
  {
   "cell_type": "code",
   "execution_count": 3,
   "id": "28098ced-bd4f-4a1d-8a54-294f7d04a634",
   "metadata": {},
   "outputs": [
    {
     "data": {
      "text/plain": [
       "123"
      ]
     },
     "execution_count": 3,
     "metadata": {},
     "output_type": "execute_result"
    }
   ],
   "source": [
    "a"
   ]
  },
  {
   "cell_type": "code",
   "execution_count": 4,
   "id": "e02fe63b-8f44-4d1c-a009-5aa9e50340a1",
   "metadata": {},
   "outputs": [],
   "source": [
    "b = 456"
   ]
  },
  {
   "cell_type": "code",
   "execution_count": 8,
   "id": "a21dbcc6-790e-4e26-81f9-c953a06122e3",
   "metadata": {},
   "outputs": [
    {
     "name": "stdout",
     "output_type": "stream",
     "text": [
      "123\n"
     ]
    },
    {
     "data": {
      "text/plain": [
       "456"
      ]
     },
     "execution_count": 8,
     "metadata": {},
     "output_type": "execute_result"
    }
   ],
   "source": [
    "print(a)\n",
    "b"
   ]
  },
  {
   "cell_type": "raw",
   "id": "5b1830d3-ebc3-46cd-b7c9-d8c555139123",
   "metadata": {},
   "source": [
    "//둘다 찍고 싶다면 위에 아이는 print써야함"
   ]
  },
  {
   "cell_type": "code",
   "execution_count": 9,
   "id": "6fd51bfc-4a6f-487e-b35c-5efd8dc81bb6",
   "metadata": {},
   "outputs": [
    {
     "data": {
      "text/plain": [
       "(123, 456)"
      ]
     },
     "execution_count": 9,
     "metadata": {},
     "output_type": "execute_result"
    }
   ],
   "source": [
    "a,b"
   ]
  },
  {
   "cell_type": "code",
   "execution_count": 10,
   "id": "7bb50303-2e62-446c-a209-ac84682ac0fd",
   "metadata": {},
   "outputs": [
    {
     "data": {
      "text/plain": [
       "int"
      ]
     },
     "execution_count": 10,
     "metadata": {},
     "output_type": "execute_result"
    }
   ],
   "source": [
    "type(a)"
   ]
  },
  {
   "cell_type": "code",
   "execution_count": 11,
   "id": "6d3f19f1-d545-497f-899b-54e6b3c63c46",
   "metadata": {},
   "outputs": [
    {
     "data": {
      "text/plain": [
       "1.9"
      ]
     },
     "execution_count": 11,
     "metadata": {},
     "output_type": "execute_result"
    }
   ],
   "source": [
    "a = 1.9\n",
    "a"
   ]
  },
  {
   "cell_type": "code",
   "execution_count": 12,
   "id": "4fdce114-34fc-42d4-a297-d30637776c3c",
   "metadata": {},
   "outputs": [
    {
     "data": {
      "text/plain": [
       "float"
      ]
     },
     "execution_count": 12,
     "metadata": {},
     "output_type": "execute_result"
    }
   ],
   "source": [
    "type(a)"
   ]
  },
  {
   "cell_type": "code",
   "execution_count": 16,
   "id": "ba240f13-e55a-45b6-b07a-c7dd7d955b7b",
   "metadata": {},
   "outputs": [],
   "source": [
    "# 박스에 과일을 넣는 작업 중입니다.\n",
    "#박스당 들어가는 과일의 갯수와 전체 과일의 갯수를 입력받아서\n",
    "#몇 박스 몇개 남는지 출력합니다."
   ]
  },
  {
   "cell_type": "code",
   "execution_count": 18,
   "id": "86883caf-1825-4ee4-a5d3-47c681e3ac28",
   "metadata": {},
   "outputs": [
    {
     "name": "stdin",
     "output_type": "stream",
     "text": [
      "전체 과일의 갯수 >>> 150\n",
      "박스당 과일의 갯수>>> 8\n"
     ]
    },
    {
     "name": "stdout",
     "output_type": "stream",
     "text": [
      "18 박스,  6 개\n"
     ]
    }
   ],
   "source": [
    "total = int(input('전체 과일의 갯수 >>>'))\n",
    "box_count = int(input('박스당 과일의 갯수>>>'))\n",
    "box = total//box_count\n",
    "count = total%box_count\n",
    "print(box,'박스, ', count,'개')"
   ]
  },
  {
   "cell_type": "code",
   "execution_count": 23,
   "id": "bc5f65ea-1a3f-4baf-9831-9c48d8d6cc6a",
   "metadata": {},
   "outputs": [
    {
     "name": "stdin",
     "output_type": "stream",
     "text": [
      "당신은 최유나입니까? [y/n] y\n"
     ]
    },
    {
     "name": "stdout",
     "output_type": "stream",
     "text": [
      "당신은 바보입니다\n"
     ]
    }
   ],
   "source": [
    "str = input('당신은 최유나입니까? [y/n]')\n",
    "if(str=='y') :\n",
    "    print('당신은 바보입니다')"
   ]
  },
  {
   "cell_type": "markdown",
   "id": "feccc644-280f-4b7a-a4ce-92ab9c99c52b",
   "metadata": {},
   "source": [
    "## 문자열 자료형"
   ]
  },
  {
   "cell_type": "code",
   "execution_count": 24,
   "id": "29b7ea12-6e71-4ce6-b915-7a3b0b6571dd",
   "metadata": {},
   "outputs": [
    {
     "data": {
      "text/plain": [
       "\"hello 'ann'\""
      ]
     },
     "execution_count": 24,
     "metadata": {},
     "output_type": "execute_result"
    }
   ],
   "source": [
    "\"hello 'ann'\""
   ]
  },
  {
   "cell_type": "code",
   "execution_count": 25,
   "id": "0f29ba25-d80b-49e8-be84-fdfa18e39185",
   "metadata": {},
   "outputs": [
    {
     "data": {
      "text/plain": [
       "'hello \"ann\"'"
      ]
     },
     "execution_count": 25,
     "metadata": {},
     "output_type": "execute_result"
    }
   ],
   "source": [
    "'hello \"ann\"'"
   ]
  },
  {
   "cell_type": "code",
   "execution_count": 26,
   "id": "b146d3b3-a482-4fef-baca-b90a2a0dd2c4",
   "metadata": {},
   "outputs": [
    {
     "data": {
      "text/plain": [
       "'hello \\n!!!!'"
      ]
     },
     "execution_count": 26,
     "metadata": {},
     "output_type": "execute_result"
    }
   ],
   "source": [
    "'''hello \n",
    "!!!!'''"
   ]
  },
  {
   "cell_type": "code",
   "execution_count": 29,
   "id": "377f3734-4203-41f5-82f6-8f2170cb39e9",
   "metadata": {},
   "outputs": [
    {
     "ename": "TypeError",
     "evalue": "unsupported operand type(s) for +: 'int' and 'str'",
     "output_type": "error",
     "traceback": [
      "\u001b[1;31m---------------------------------------------------------------------------\u001b[0m",
      "\u001b[1;31mTypeError\u001b[0m                                 Traceback (most recent call last)",
      "Input \u001b[1;32mIn [29]\u001b[0m, in \u001b[0;36m<cell line: 1>\u001b[1;34m()\u001b[0m\n\u001b[1;32m----> 1\u001b[0m \u001b[38;5;241;43m1\u001b[39;49m\u001b[43m \u001b[49m\u001b[38;5;241;43m+\u001b[39;49m\u001b[43m \u001b[49m\u001b[38;5;124;43m'\u001b[39;49m\u001b[38;5;124;43ma\u001b[39;49m\u001b[38;5;124;43m'\u001b[39;49m\n",
      "\u001b[1;31mTypeError\u001b[0m: unsupported operand type(s) for +: 'int' and 'str'"
     ]
    }
   ],
   "source": [
    "1 + 'a'"
   ]
  },
  {
   "cell_type": "code",
   "execution_count": 30,
   "id": "fbe9f5ef-f62f-4760-bdcc-c7ad0db02f75",
   "metadata": {},
   "outputs": [
    {
     "data": {
      "text/plain": [
       "'1a'"
      ]
     },
     "execution_count": 30,
     "metadata": {},
     "output_type": "execute_result"
    }
   ],
   "source": [
    "'1'+'a'"
   ]
  },
  {
   "cell_type": "code",
   "execution_count": 31,
   "id": "c9f7990d-2518-42e3-802f-75591f7651f8",
   "metadata": {},
   "outputs": [
    {
     "data": {
      "text/plain": [
       "'1111'"
      ]
     },
     "execution_count": 31,
     "metadata": {},
     "output_type": "execute_result"
    }
   ],
   "source": [
    "'1'*4"
   ]
  },
  {
   "cell_type": "code",
   "execution_count": 32,
   "id": "d7859318-8f38-4e80-bf60-acacf6fa2af5",
   "metadata": {},
   "outputs": [
    {
     "data": {
      "text/plain": [
       "17"
      ]
     },
     "execution_count": 32,
     "metadata": {},
     "output_type": "execute_result"
    }
   ],
   "source": [
    "a = 'life is too short'\n",
    "len(a)"
   ]
  },
  {
   "cell_type": "code",
   "execution_count": 33,
   "id": "b654c06d-6b6e-4a88-bf73-29e6be5cae0a",
   "metadata": {},
   "outputs": [
    {
     "data": {
      "text/plain": [
       "'Life is too short, You need Python'"
      ]
     },
     "execution_count": 33,
     "metadata": {},
     "output_type": "execute_result"
    }
   ],
   "source": [
    "a = \"Life is too short, You need Python\"\n",
    "a"
   ]
  },
  {
   "cell_type": "code",
   "execution_count": 34,
   "id": "c2afeead-0963-4c59-8254-dfab835bd2d4",
   "metadata": {},
   "outputs": [
    {
     "data": {
      "text/plain": [
       "'L'"
      ]
     },
     "execution_count": 34,
     "metadata": {},
     "output_type": "execute_result"
    }
   ],
   "source": [
    "a[0]"
   ]
  },
  {
   "cell_type": "code",
   "execution_count": 35,
   "id": "0d37c75d-d84c-4a70-8d79-b9809b5e5e0b",
   "metadata": {},
   "outputs": [
    {
     "data": {
      "text/plain": [
       "'n'"
      ]
     },
     "execution_count": 35,
     "metadata": {},
     "output_type": "execute_result"
    }
   ],
   "source": [
    "a[-1]"
   ]
  },
  {
   "cell_type": "code",
   "execution_count": 36,
   "id": "0e06f770-a3c9-42ed-904d-e078793dbb65",
   "metadata": {},
   "outputs": [
    {
     "data": {
      "text/plain": [
       "'Lif'"
      ]
     },
     "execution_count": 36,
     "metadata": {},
     "output_type": "execute_result"
    }
   ],
   "source": [
    "a[0:3]"
   ]
  },
  {
   "cell_type": "code",
   "execution_count": 37,
   "id": "6f65f080-c5f7-4c44-9df1-0dbc95ef548a",
   "metadata": {},
   "outputs": [
    {
     "data": {
      "text/plain": [
       "'Life'"
      ]
     },
     "execution_count": 37,
     "metadata": {},
     "output_type": "execute_result"
    }
   ],
   "source": [
    "a[:4]"
   ]
  },
  {
   "cell_type": "code",
   "execution_count": 38,
   "id": "da2b4cd8-587f-456a-b9b8-62181c8f2adf",
   "metadata": {},
   "outputs": [
    {
     "data": {
      "text/plain": [
       "'Python'"
      ]
     },
     "execution_count": 38,
     "metadata": {},
     "output_type": "execute_result"
    }
   ],
   "source": [
    "a[-6:]"
   ]
  },
  {
   "cell_type": "code",
   "execution_count": 39,
   "id": "318a6c8d-92ab-4891-9c2c-b9a059dd17c3",
   "metadata": {},
   "outputs": [],
   "source": [
    "# 주민등록 번호를 입력받아서 생년월일과 성별을 출력하세요\n",
    "# 3항 연산자를 이용 (조건 ? 참일 때:거짓일때)"
   ]
  },
  {
   "cell_type": "code",
   "execution_count": 43,
   "id": "ad4102aa-bd46-4cad-8856-c466dd45dac8",
   "metadata": {},
   "outputs": [
    {
     "name": "stdin",
     "output_type": "stream",
     "text": [
      "주민등록 번호를 입력하시오 >>> 456123\n"
     ]
    }
   ],
   "source": [
    "Number = input('주민등록 번호를 입력하시오 >>>')\n"
   ]
  },
  {
   "cell_type": "code",
   "execution_count": 46,
   "id": "5773932b-dbd3-4cdb-80fa-dfdaee6f0ce8",
   "metadata": {},
   "outputs": [
    {
     "ename": "SyntaxError",
     "evalue": "invalid syntax (598767883.py, line 1)",
     "output_type": "error",
     "traceback": [
      "\u001b[1;36m  Input \u001b[1;32mIn [46]\u001b[1;36m\u001b[0m\n\u001b[1;33m    Number==456123 ? '여자' : '없는 번호입니다.'\u001b[0m\n\u001b[1;37m                   ^\u001b[0m\n\u001b[1;31mSyntaxError\u001b[0m\u001b[1;31m:\u001b[0m invalid syntax\n"
     ]
    }
   ],
   "source": [
    "Number==456123 ? '여자' : '없는 번호입니다.'"
   ]
  },
  {
   "cell_type": "code",
   "execution_count": 47,
   "id": "2de80024-4327-40b7-8ee8-c7573e64b71b",
   "metadata": {},
   "outputs": [
    {
     "name": "stdin",
     "output_type": "stream",
     "text": [
      "주민등록번호 입력 >>> 201111-3123456\n"
     ]
    },
    {
     "name": "stdout",
     "output_type": "stream",
     "text": [
      "생년월일 201111\n",
      "성별 남자\n"
     ]
    }
   ],
   "source": [
    "jumin = input('주민등록번호 입력 >>>')\n",
    "print('생년월일', jumin[:6])\n",
    "print('성별', '남자' if jumin[7] =='3' else '여자')"
   ]
  },
  {
   "cell_type": "markdown",
   "id": "ed041830-6e4b-42ce-b0e5-290b6c42dd84",
   "metadata": {},
   "source": [
    "## 문자열 포매팅"
   ]
  },
  {
   "cell_type": "code",
   "execution_count": 49,
   "id": "d28f2576-1a95-4ef5-9358-dd30541a46bb",
   "metadata": {},
   "outputs": [
    {
     "data": {
      "text/plain": [
       "'i eat 3 apples.'"
      ]
     },
     "execution_count": 49,
     "metadata": {},
     "output_type": "execute_result"
    }
   ],
   "source": [
    "\"i eat %d apples.\" % 3"
   ]
  },
  {
   "cell_type": "code",
   "execution_count": 50,
   "id": "35dce3cd-0a9f-40f2-97f1-13ac8e2c1b55",
   "metadata": {},
   "outputs": [
    {
     "data": {
      "text/plain": [
       "'i eat 3 apples end'"
      ]
     },
     "execution_count": 50,
     "metadata": {},
     "output_type": "execute_result"
    }
   ],
   "source": [
    "\"i eat %d apples %s\" %(3,\"end\")"
   ]
  },
  {
   "cell_type": "code",
   "execution_count": 61,
   "id": "4c2fe213-8914-488b-821b-c39f0ed5130f",
   "metadata": {},
   "outputs": [
    {
     "data": {
      "text/plain": [
       "'i eat 321,321.123 apples. count'"
      ]
     },
     "execution_count": 61,
     "metadata": {},
     "output_type": "execute_result"
    }
   ],
   "source": [
    "'i eat {:^10,.3f} apples. {}'.format(321321.123456, 'count')"
   ]
  },
  {
   "cell_type": "code",
   "execution_count": 62,
   "id": "b061ad02-843c-43be-99a3-e29bfbf922a4",
   "metadata": {},
   "outputs": [
    {
     "name": "stdin",
     "output_type": "stream",
     "text": [
      "이름을 입력하세요 >>> 최유나\n",
      "나이를 입력하세요 >>> 24\n"
     ]
    },
    {
     "name": "stdout",
     "output_type": "stream",
     "text": [
      "이름은 최유나이고, 나이는 24살입니다\n"
     ]
    }
   ],
   "source": [
    "name = input('이름을 입력하세요 >>>')\n",
    "age = int(input('나이를 입력하세요 >>>'))\n",
    "print(f'이름은 {name}이고, 나이는 {age:.1f}살입니다'.)"
   ]
  },
  {
   "cell_type": "code",
   "execution_count": 64,
   "id": "6c89248a-b957-453f-9816-04a56c149e39",
   "metadata": {},
   "outputs": [
    {
     "data": {
      "text/plain": [
       "0"
      ]
     },
     "execution_count": 64,
     "metadata": {},
     "output_type": "execute_result"
    }
   ],
   "source": [
    "a = \"hobby\"\n",
    "a.count('i')"
   ]
  },
  {
   "cell_type": "code",
   "execution_count": 65,
   "id": "728a0008-c43f-4818-bfe7-1abe4d9c23ad",
   "metadata": {},
   "outputs": [
    {
     "data": {
      "text/plain": [
       "14"
      ]
     },
     "execution_count": 65,
     "metadata": {},
     "output_type": "execute_result"
    }
   ],
   "source": [
    "a = \"Python is the best choice\"\n",
    "a.find('b') # 인덱스 리턴"
   ]
  },
  {
   "cell_type": "code",
   "execution_count": 66,
   "id": "8d315288-b818-475e-b93e-08baa2fd1e52",
   "metadata": {},
   "outputs": [
    {
     "data": {
      "text/plain": [
       "-1"
      ]
     },
     "execution_count": 66,
     "metadata": {},
     "output_type": "execute_result"
    }
   ],
   "source": [
    "a.find('k')#글자가없을 경우 -1리턴"
   ]
  },
  {
   "cell_type": "code",
   "execution_count": 68,
   "id": "13255218-e5ec-447a-87d2-b3167c7d9ccc",
   "metadata": {},
   "outputs": [
    {
     "data": {
      "text/plain": [
       "8"
      ]
     },
     "execution_count": 68,
     "metadata": {},
     "output_type": "execute_result"
    }
   ],
   "source": [
    "a=\"Life is too short\"\n",
    "a.index('t')"
   ]
  },
  {
   "cell_type": "code",
   "execution_count": 70,
   "id": "0a5ac923-f9f6-4934-8e58-88d283a8a06c",
   "metadata": {},
   "outputs": [
    {
     "ename": "ValueError",
     "evalue": "substring not found",
     "output_type": "error",
     "traceback": [
      "\u001b[1;31m---------------------------------------------------------------------------\u001b[0m",
      "\u001b[1;31mValueError\u001b[0m                                Traceback (most recent call last)",
      "Input \u001b[1;32mIn [70]\u001b[0m, in \u001b[0;36m<cell line: 1>\u001b[1;34m()\u001b[0m\n\u001b[1;32m----> 1\u001b[0m \u001b[43ma\u001b[49m\u001b[38;5;241;43m.\u001b[39;49m\u001b[43mindex\u001b[49m\u001b[43m(\u001b[49m\u001b[38;5;124;43m'\u001b[39;49m\u001b[38;5;124;43mk\u001b[39;49m\u001b[38;5;124;43m'\u001b[39;49m\u001b[43m)\u001b[49m\n",
      "\u001b[1;31mValueError\u001b[0m: substring not found"
     ]
    }
   ],
   "source": [
    "a.index('k')"
   ]
  },
  {
   "cell_type": "code",
   "execution_count": 71,
   "id": "162f52e5-3ca1-4d3f-989f-7f938712150f",
   "metadata": {},
   "outputs": [
    {
     "data": {
      "text/plain": [
       "'a,b,c,d'"
      ]
     },
     "execution_count": 71,
     "metadata": {},
     "output_type": "execute_result"
    }
   ],
   "source": [
    "','.join('abcd')"
   ]
  },
  {
   "cell_type": "code",
   "execution_count": 72,
   "id": "65d1c2e3-72a0-4d78-a726-2f05c36ff5fb",
   "metadata": {},
   "outputs": [
    {
     "data": {
      "text/plain": [
       "'abc,edf,78'"
      ]
     },
     "execution_count": 72,
     "metadata": {},
     "output_type": "execute_result"
    }
   ],
   "source": [
    "','.join(['abc', 'edf','78'])"
   ]
  },
  {
   "cell_type": "code",
   "execution_count": 73,
   "id": "9af2e797-77f1-44ed-ae12-170ff8d6266c",
   "metadata": {},
   "outputs": [
    {
     "data": {
      "text/plain": [
       "['Life', 'is', 'too', 'short']"
      ]
     },
     "execution_count": 73,
     "metadata": {},
     "output_type": "execute_result"
    }
   ],
   "source": [
    "a = \"Life is too short\"\n",
    "a.split()"
   ]
  },
  {
   "cell_type": "code",
   "execution_count": 74,
   "id": "acd5577d-2ca7-4920-871e-dfed8a226424",
   "metadata": {},
   "outputs": [
    {
     "data": {
      "text/plain": [
       "['Life,is,too,short']"
      ]
     },
     "execution_count": 74,
     "metadata": {},
     "output_type": "execute_result"
    }
   ],
   "source": [
    "a = \"Life,is,too,short\"\n",
    "a.split()"
   ]
  },
  {
   "cell_type": "code",
   "execution_count": 78,
   "id": "14367e27-bd19-40bc-b4e4-60d0317f6d00",
   "metadata": {},
   "outputs": [
    {
     "name": "stdout",
     "output_type": "stream",
     "text": [
      "walk\n"
     ]
    }
   ],
   "source": [
    "money = False\n",
    "if money : \n",
    "    print('taxi')\n",
    "    print('----')\n",
    "else:\n",
    "    print('walk')"
   ]
  },
  {
   "cell_type": "code",
   "execution_count": 83,
   "id": "55a6edd9-be09-4de8-9b8f-e5f5de7d5a03",
   "metadata": {},
   "outputs": [
    {
     "name": "stdout",
     "output_type": "stream",
     "text": [
      "카드를 꺼내라\n"
     ]
    }
   ],
   "source": [
    "if 'well' in ['card', 'money'] : pass\n",
    "else:\n",
    "    print('카드를 꺼내라')"
   ]
  },
  {
   "cell_type": "code",
   "execution_count": 84,
   "id": "a9413766-8f7c-4fd7-b88d-f7816037af46",
   "metadata": {},
   "outputs": [],
   "source": [
    "## 구구단 출력하기\n",
    "#-2단-\n",
    "# 2*1=2\n",
    "# ...\n",
    "\n",
    "# -3단-\n",
    "# ...."
   ]
  },
  {
   "cell_type": "code",
   "execution_count": 89,
   "id": "34d337d0-4c27-4be6-81b7-9298acc228de",
   "metadata": {
    "collapsed": true,
    "jupyter": {
     "outputs_hidden": true
    },
    "tags": []
   },
   "outputs": [
    {
     "name": "stdout",
     "output_type": "stream",
     "text": [
      "-2단-\n",
      "2*1 =2\n",
      "2*2 =4\n",
      "2*3 =6\n",
      "2*4 =8\n",
      "2*5 =10\n",
      "2*6 =12\n",
      "2*7 =14\n",
      "2*8 =16\n",
      "2*9 =18\n",
      "\n",
      "-3단-\n",
      "3*1 =3\n",
      "3*2 =6\n",
      "3*3 =9\n",
      "3*4 =12\n",
      "3*5 =15\n",
      "3*6 =18\n",
      "3*7 =21\n",
      "3*8 =24\n",
      "3*9 =27\n",
      "\n",
      "-4단-\n",
      "4*1 =4\n",
      "4*2 =8\n",
      "4*3 =12\n",
      "4*4 =16\n",
      "4*5 =20\n",
      "4*6 =24\n",
      "4*7 =28\n",
      "4*8 =32\n",
      "4*9 =36\n",
      "\n",
      "-5단-\n",
      "5*1 =5\n",
      "5*2 =10\n",
      "5*3 =15\n",
      "5*4 =20\n",
      "5*5 =25\n",
      "5*6 =30\n",
      "5*7 =35\n",
      "5*8 =40\n",
      "5*9 =45\n",
      "\n",
      "-6단-\n",
      "6*1 =6\n",
      "6*2 =12\n",
      "6*3 =18\n",
      "6*4 =24\n",
      "6*5 =30\n",
      "6*6 =36\n",
      "6*7 =42\n",
      "6*8 =48\n",
      "6*9 =54\n",
      "\n",
      "-7단-\n",
      "7*1 =7\n",
      "7*2 =14\n",
      "7*3 =21\n",
      "7*4 =28\n",
      "7*5 =35\n",
      "7*6 =42\n",
      "7*7 =49\n",
      "7*8 =56\n",
      "7*9 =63\n",
      "\n",
      "-8단-\n",
      "8*1 =8\n",
      "8*2 =16\n",
      "8*3 =24\n",
      "8*4 =32\n",
      "8*5 =40\n",
      "8*6 =48\n",
      "8*7 =56\n",
      "8*8 =64\n",
      "8*9 =72\n",
      "\n",
      "-9단-\n",
      "9*1 =9\n",
      "9*2 =18\n",
      "9*3 =27\n",
      "9*4 =36\n",
      "9*5 =45\n",
      "9*6 =54\n",
      "9*7 =63\n",
      "9*8 =72\n",
      "9*9 =81\n",
      "\n"
     ]
    }
   ],
   "source": [
    "\n",
    "for i in range(2,10):\n",
    "    print(f'-{i}단-')\n",
    "    for j in range(1,10):\n",
    "        print(f'{i}*{j} ={i*j:2}')\n",
    "    print()"
   ]
  },
  {
   "cell_type": "code",
   "execution_count": 98,
   "id": "891e13dd-31e2-4d1d-bf19-c8376a4fea82",
   "metadata": {},
   "outputs": [
    {
     "name": "stdout",
     "output_type": "stream",
     "text": [
      "2 * 1 =  2  3 * 1 =  3  4 * 1 =  4  5 * 1 =  5  6 * 1 =  6  7 * 1 =  7  8 * 1 =  8  9 * 1 =  9  \n",
      "2 * 2 =  4  3 * 2 =  6  4 * 2 =  8  5 * 2 = 10  6 * 2 = 12  7 * 2 = 14  8 * 2 = 16  9 * 2 = 18  \n",
      "2 * 3 =  6  3 * 3 =  9  4 * 3 = 12  5 * 3 = 15  6 * 3 = 18  7 * 3 = 21  8 * 3 = 24  9 * 3 = 27  \n",
      "2 * 4 =  8  3 * 4 = 12  4 * 4 = 16  5 * 4 = 20  6 * 4 = 24  7 * 4 = 28  8 * 4 = 32  9 * 4 = 36  \n",
      "2 * 5 = 10  3 * 5 = 15  4 * 5 = 20  5 * 5 = 25  6 * 5 = 30  7 * 5 = 35  8 * 5 = 40  9 * 5 = 45  \n",
      "2 * 6 = 12  3 * 6 = 18  4 * 6 = 24  5 * 6 = 30  6 * 6 = 36  7 * 6 = 42  8 * 6 = 48  9 * 6 = 54  \n",
      "2 * 7 = 14  3 * 7 = 21  4 * 7 = 28  5 * 7 = 35  6 * 7 = 42  7 * 7 = 49  8 * 7 = 56  9 * 7 = 63  \n",
      "2 * 8 = 16  3 * 8 = 24  4 * 8 = 32  5 * 8 = 40  6 * 8 = 48  7 * 8 = 56  8 * 8 = 64  9 * 8 = 72  \n",
      "2 * 9 = 18  3 * 9 = 27  4 * 9 = 36  5 * 9 = 45  6 * 9 = 54  7 * 9 = 63  8 * 9 = 72  9 * 9 = 81  \n"
     ]
    }
   ],
   "source": [
    "for i in range(1,10):\n",
    "    for j in range(2, 10):\n",
    "        print(f'{j} * {i} = {j*i:2}', end='  ')    \n",
    "    print()"
   ]
  },
  {
   "cell_type": "code",
   "execution_count": null,
   "id": "2d664619-77d7-4c32-9ccf-ade686bdc19f",
   "metadata": {},
   "outputs": [],
   "source": []
  }
 ],
 "metadata": {
  "kernelspec": {
   "display_name": "Python 3 (ipykernel)",
   "language": "python",
   "name": "python3"
  },
  "language_info": {
   "codemirror_mode": {
    "name": "ipython",
    "version": 3
   },
   "file_extension": ".py",
   "mimetype": "text/x-python",
   "name": "python",
   "nbconvert_exporter": "python",
   "pygments_lexer": "ipython3",
   "version": "3.9.12"
  }
 },
 "nbformat": 4,
 "nbformat_minor": 5
}
