{
 "cells": [
  {
   "cell_type": "code",
   "execution_count": 1,
   "id": "4a13dc7a-5bb1-42c3-b0a6-fc67a5a2b537",
   "metadata": {},
   "outputs": [
    {
     "data": {
      "text/plain": [
       "[1, 2, 1, 4, 3, 2, 5, 7]"
      ]
     },
     "execution_count": 1,
     "metadata": {},
     "output_type": "execute_result"
    }
   ],
   "source": [
    "a=[1,2,1,4,3,2,5,7]\n",
    "a"
   ]
  },
  {
   "cell_type": "code",
   "execution_count": 2,
   "id": "2374b5fb-8fc5-466d-a34b-153456da0d69",
   "metadata": {},
   "outputs": [
    {
     "data": {
      "text/plain": [
       "{1, 2, 3, 4, 5, 7}"
      ]
     },
     "execution_count": 2,
     "metadata": {},
     "output_type": "execute_result"
    }
   ],
   "source": [
    "set(a)#중복값은 들어갈 수 없기 때문에 자동으로 중복된 숫자를 지운다"
   ]
  },
  {
   "cell_type": "code",
   "execution_count": 3,
   "id": "13427b76-c7f4-4267-8a20-671642ecbd50",
   "metadata": {},
   "outputs": [],
   "source": [
    "def add(a,b):\n",
    "    return a+b"
   ]
  },
  {
   "cell_type": "code",
   "execution_count": 4,
   "id": "b5a9a7ee-3984-4ac8-b983-9e635af6188c",
   "metadata": {},
   "outputs": [
    {
     "data": {
      "text/plain": [
       "3"
      ]
     },
     "execution_count": 4,
     "metadata": {},
     "output_type": "execute_result"
    }
   ],
   "source": [
    "add(1,2)"
   ]
  },
  {
   "cell_type": "code",
   "execution_count": 16,
   "id": "ced8b42e-d986-40eb-816a-ba5b391e8621",
   "metadata": {},
   "outputs": [
    {
     "data": {
      "text/plain": [
       "1.0"
      ]
     },
     "execution_count": 16,
     "metadata": {},
     "output_type": "execute_result"
    }
   ],
   "source": [
    "add(1)"
   ]
  },
  {
   "cell_type": "code",
   "execution_count": 14,
   "id": "2b0bc3cf-4c83-4d13-97d4-a5d023b7fdf4",
   "metadata": {},
   "outputs": [],
   "source": [
    "def add(a=1,b=1):\n",
    "    return a/b"
   ]
  },
  {
   "cell_type": "code",
   "execution_count": 11,
   "id": "89c01b29-04b6-49f4-a7b0-e254ef95d21b",
   "metadata": {},
   "outputs": [
    {
     "data": {
      "text/plain": [
       "1.6666666666666667"
      ]
     },
     "execution_count": 11,
     "metadata": {},
     "output_type": "execute_result"
    }
   ],
   "source": [
    "add(b=3,a=5)"
   ]
  },
  {
   "cell_type": "code",
   "execution_count": 12,
   "id": "2c1834b9-ef1e-42d8-a342-31634a7801b1",
   "metadata": {},
   "outputs": [
    {
     "data": {
      "text/plain": [
       "0.6"
      ]
     },
     "execution_count": 12,
     "metadata": {},
     "output_type": "execute_result"
    }
   ],
   "source": [
    "add(3,5)"
   ]
  },
  {
   "cell_type": "code",
   "execution_count": 15,
   "id": "e5792274-2b94-47f0-b075-e580d8bbc528",
   "metadata": {},
   "outputs": [
    {
     "data": {
      "text/plain": [
       "1.0"
      ]
     },
     "execution_count": 15,
     "metadata": {},
     "output_type": "execute_result"
    }
   ],
   "source": [
    "add()"
   ]
  },
  {
   "cell_type": "code",
   "execution_count": 17,
   "id": "34a3e31c-7273-4f78-9ec3-7dab7896ed6d",
   "metadata": {},
   "outputs": [],
   "source": [
    "def add_many(*args):\n",
    "    result = 0\n",
    "    for i in args:\n",
    "        result = result+i\n",
    "    return result"
   ]
  },
  {
   "cell_type": "code",
   "execution_count": 19,
   "id": "7514711a-447e-426b-b357-408ce2716736",
   "metadata": {},
   "outputs": [
    {
     "data": {
      "text/plain": [
       "55"
      ]
     },
     "execution_count": 19,
     "metadata": {},
     "output_type": "execute_result"
    }
   ],
   "source": [
    "add_many(1,2,3,4,5,6,7,8,9,10)"
   ]
  },
  {
   "cell_type": "code",
   "execution_count": 24,
   "id": "020d1d8c-5f77-4b3a-b800-12dbab4fe03b",
   "metadata": {},
   "outputs": [],
   "source": [
    "def add_mul(*args, choice):\n",
    "    if choice == \"add\":\n",
    "        result=0\n",
    "        for i in args:\n",
    "            result = result + i\n",
    "    elif choice==\"mul\":\n",
    "        result=1\n",
    "        for i in args:\n",
    "            result = result*i\n",
    "    return result"
   ]
  },
  {
   "cell_type": "code",
   "execution_count": 25,
   "id": "eecc5c08-b685-429d-9d03-b83e9fc84fd9",
   "metadata": {},
   "outputs": [
    {
     "data": {
      "text/plain": [
       "72"
      ]
     },
     "execution_count": 25,
     "metadata": {},
     "output_type": "execute_result"
    }
   ],
   "source": [
    "add_mul(1,1,2,3,2,2,3, choice='mul')"
   ]
  },
  {
   "cell_type": "code",
   "execution_count": 26,
   "id": "22d1857f-3471-4f97-8455-db6c85556dfd",
   "metadata": {},
   "outputs": [],
   "source": [
    "#정규표현식 291pg"
   ]
  },
  {
   "cell_type": "code",
   "execution_count": 28,
   "id": "7db4cfcf-6d6c-40f9-9999-47eb7b7fc4b8",
   "metadata": {},
   "outputs": [],
   "source": [
    "import re"
   ]
  },
  {
   "cell_type": "code",
   "execution_count": 29,
   "id": "e040bd1b-e882-401a-9294-24a8e0928af8",
   "metadata": {},
   "outputs": [
    {
     "data": {
      "text/plain": [
       "<re.Match object; span=(0, 6), match='python'>"
      ]
     },
     "execution_count": 29,
     "metadata": {},
     "output_type": "execute_result"
    }
   ],
   "source": [
    "p = re.compile('[a-z]+')\n",
    "m=p.match('python1python')\n",
    "m"
   ]
  },
  {
   "cell_type": "code",
   "execution_count": 30,
   "id": "b6c8dea7-1f1e-46ce-8d67-a3c997ed1014",
   "metadata": {},
   "outputs": [
    {
     "data": {
      "text/plain": [
       "['life', 'is', 'too', 'short']"
      ]
     },
     "execution_count": 30,
     "metadata": {},
     "output_type": "execute_result"
    }
   ],
   "source": [
    "result = p.findall(\"life is too short\")\n",
    "result"
   ]
  },
  {
   "cell_type": "code",
   "execution_count": 31,
   "id": "35225458-0ed8-4848-b3b8-aaa81a826e96",
   "metadata": {},
   "outputs": [
    {
     "name": "stdin",
     "output_type": "stream",
     "text": [
      "이메일>>> dserf@email.com\n"
     ]
    }
   ],
   "source": [
    "p=re.compile('[a-z][a-z0-9]{4,}@[a-z][.](kr|com|org|net)$')\n",
    "email = input('이메일>>>')\n",
    "result = p.match(email)\n",
    "result"
   ]
  },
  {
   "cell_type": "code",
   "execution_count": null,
   "id": "f4d785d8-38ea-4f63-9d5a-26dbb4a6fa2d",
   "metadata": {},
   "outputs": [],
   "source": [
    "<re.Match object; span=(0"
   ]
  }
 ],
 "metadata": {
  "kernelspec": {
   "display_name": "Python 3 (ipykernel)",
   "language": "python",
   "name": "python3"
  },
  "language_info": {
   "codemirror_mode": {
    "name": "ipython",
    "version": 3
   },
   "file_extension": ".py",
   "mimetype": "text/x-python",
   "name": "python",
   "nbconvert_exporter": "python",
   "pygments_lexer": "ipython3",
   "version": "3.9.12"
  }
 },
 "nbformat": 4,
 "nbformat_minor": 5
}
